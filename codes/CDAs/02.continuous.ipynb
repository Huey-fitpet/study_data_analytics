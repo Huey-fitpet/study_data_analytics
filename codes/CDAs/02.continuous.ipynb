{
 "cells": [
  {
   "cell_type": "markdown",
   "metadata": {},
   "source": [
    "## 연속형, 연속형\n",
    "- 상관계수 (correlation coefficient) 확인 \n",
    "  + -1 <= x <= 1 : 0.5 or -0.5 기준(threashold) \n",
    "  + -1 에 가까우면 반비례, 1에 가까우면 정비례"
   ]
  },
  {
   "cell_type": "code",
   "execution_count": 1,
   "metadata": {},
   "outputs": [],
   "source": [
    "import matplotlib.pyplot as plt\n",
    "import matplotlib as mpl # 한글 폰트 설정 (NanumGothic) \n",
    "mpl.rcParams['font.family'] = 'NanumGothic'\n",
    "mpl.rcParams['axes.unicode_minus'] = False  # 마이너스 기호 깨짐 방지\n",
    "import seaborn as sns\n",
    "import pandas as pd \n",
    "import numpy as np"
   ]
  },
  {
   "cell_type": "code",
   "execution_count": 2,
   "metadata": {},
   "outputs": [
    {
     "data": {
      "text/html": [
       "<div>\n",
       "<style scoped>\n",
       "    .dataframe tbody tr th:only-of-type {\n",
       "        vertical-align: middle;\n",
       "    }\n",
       "\n",
       "    .dataframe tbody tr th {\n",
       "        vertical-align: top;\n",
       "    }\n",
       "\n",
       "    .dataframe thead th {\n",
       "        text-align: right;\n",
       "    }\n",
       "</style>\n",
       "<table border=\"1\" class=\"dataframe\">\n",
       "  <thead>\n",
       "    <tr style=\"text-align: right;\">\n",
       "      <th></th>\n",
       "      <th>id</th>\n",
       "      <th>type_of_contract</th>\n",
       "      <th>type_of_contract2</th>\n",
       "      <th>channel</th>\n",
       "      <th>datetime</th>\n",
       "      <th>Term</th>\n",
       "      <th>payment_type</th>\n",
       "      <th>product</th>\n",
       "      <th>amount</th>\n",
       "      <th>state</th>\n",
       "      <th>overdue_count</th>\n",
       "      <th>overdue</th>\n",
       "      <th>credit rating</th>\n",
       "      <th>bank</th>\n",
       "      <th>cancellation</th>\n",
       "      <th>age</th>\n",
       "      <th>Mileage</th>\n",
       "    </tr>\n",
       "  </thead>\n",
       "  <tbody>\n",
       "    <tr>\n",
       "      <th>0</th>\n",
       "      <td>66758234</td>\n",
       "      <td>렌탈</td>\n",
       "      <td>Normal</td>\n",
       "      <td>서비스 방문</td>\n",
       "      <td>2019-10-20</td>\n",
       "      <td>60</td>\n",
       "      <td>CMS</td>\n",
       "      <td>K1</td>\n",
       "      <td>96900</td>\n",
       "      <td>계약확정</td>\n",
       "      <td>0</td>\n",
       "      <td>없음</td>\n",
       "      <td>9.0</td>\n",
       "      <td>새마을금고</td>\n",
       "      <td>정상</td>\n",
       "      <td>43.0</td>\n",
       "      <td>1862.0</td>\n",
       "    </tr>\n",
       "    <tr>\n",
       "      <th>1</th>\n",
       "      <td>66755948</td>\n",
       "      <td>렌탈</td>\n",
       "      <td>Extension_Rental</td>\n",
       "      <td>서비스 방문</td>\n",
       "      <td>2019-10-20</td>\n",
       "      <td>60</td>\n",
       "      <td>카드이체</td>\n",
       "      <td>K1</td>\n",
       "      <td>102900</td>\n",
       "      <td>계약확정</td>\n",
       "      <td>0</td>\n",
       "      <td>없음</td>\n",
       "      <td>2.0</td>\n",
       "      <td>현대카드</td>\n",
       "      <td>정상</td>\n",
       "      <td>62.0</td>\n",
       "      <td>2532.0</td>\n",
       "    </tr>\n",
       "    <tr>\n",
       "      <th>2</th>\n",
       "      <td>66756657</td>\n",
       "      <td>렌탈</td>\n",
       "      <td>Normal</td>\n",
       "      <td>홈쇼핑/방송</td>\n",
       "      <td>2019-10-20</td>\n",
       "      <td>60</td>\n",
       "      <td>CMS</td>\n",
       "      <td>K1</td>\n",
       "      <td>96900</td>\n",
       "      <td>계약확정</td>\n",
       "      <td>0</td>\n",
       "      <td>없음</td>\n",
       "      <td>8.0</td>\n",
       "      <td>우리은행</td>\n",
       "      <td>정상</td>\n",
       "      <td>60.0</td>\n",
       "      <td>2363.0</td>\n",
       "    </tr>\n",
       "    <tr>\n",
       "      <th>3</th>\n",
       "      <td>66423450</td>\n",
       "      <td>멤버십</td>\n",
       "      <td>TAS</td>\n",
       "      <td>렌탈재계약</td>\n",
       "      <td>2019-10-20</td>\n",
       "      <td>12</td>\n",
       "      <td>CMS</td>\n",
       "      <td>K1</td>\n",
       "      <td>66900</td>\n",
       "      <td>계약확정</td>\n",
       "      <td>0</td>\n",
       "      <td>없음</td>\n",
       "      <td>5.0</td>\n",
       "      <td>농협은행</td>\n",
       "      <td>정상</td>\n",
       "      <td>60.0</td>\n",
       "      <td>2449.0</td>\n",
       "    </tr>\n",
       "    <tr>\n",
       "      <th>4</th>\n",
       "      <td>66423204</td>\n",
       "      <td>멤버십</td>\n",
       "      <td>TAS</td>\n",
       "      <td>렌탈재계약</td>\n",
       "      <td>2019-10-20</td>\n",
       "      <td>12</td>\n",
       "      <td>CMS</td>\n",
       "      <td>K1</td>\n",
       "      <td>66900</td>\n",
       "      <td>해약확정</td>\n",
       "      <td>12</td>\n",
       "      <td>있음</td>\n",
       "      <td>8.0</td>\n",
       "      <td>농협은행</td>\n",
       "      <td>해약</td>\n",
       "      <td>51.0</td>\n",
       "      <td>1942.0</td>\n",
       "    </tr>\n",
       "  </tbody>\n",
       "</table>\n",
       "</div>"
      ],
      "text/plain": [
       "         id type_of_contract type_of_contract2 channel    datetime  Term  \\\n",
       "0  66758234               렌탈            Normal  서비스 방문  2019-10-20    60   \n",
       "1  66755948               렌탈  Extension_Rental  서비스 방문  2019-10-20    60   \n",
       "2  66756657               렌탈            Normal  홈쇼핑/방송  2019-10-20    60   \n",
       "3  66423450              멤버십               TAS   렌탈재계약  2019-10-20    12   \n",
       "4  66423204              멤버십               TAS   렌탈재계약  2019-10-20    12   \n",
       "\n",
       "  payment_type product  amount state  overdue_count overdue  credit rating  \\\n",
       "0          CMS      K1   96900  계약확정              0      없음            9.0   \n",
       "1         카드이체      K1  102900  계약확정              0      없음            2.0   \n",
       "2          CMS      K1   96900  계약확정              0      없음            8.0   \n",
       "3          CMS      K1   66900  계약확정              0      없음            5.0   \n",
       "4          CMS      K1   66900  해약확정             12      있음            8.0   \n",
       "\n",
       "    bank cancellation   age  Mileage  \n",
       "0  새마을금고           정상  43.0   1862.0  \n",
       "1   현대카드           정상  62.0   2532.0  \n",
       "2   우리은행           정상  60.0   2363.0  \n",
       "3   농협은행           정상  60.0   2449.0  \n",
       "4   농협은행           해약  51.0   1942.0  "
      ]
     },
     "execution_count": 2,
     "metadata": {},
     "output_type": "execute_result"
    }
   ],
   "source": [
    "data_df = pd.read_csv('../../datasets/LetalCarOfContractType.csv')\n",
    "data_df.head()"
   ]
  },
  {
   "cell_type": "markdown",
   "metadata": {},
   "source": [
    "### 분석 내용 \n",
    "- 가상 가설 : 나이에 따른 마일리지 변화가 있는가 ?\n",
    "  - 귀무 가설 : 나이에 따른 마일리지 변화가 없다.\n",
    "  - 대립 가설 : 나이에 따른 마일리지 변화가 있다.\n",
    "- 대상 변수 : age, Mileage\n",
    "- 분석 결과 \n",
    "  - 통계 결론 : 대립 가설 성립\n",
    "  - 사실 결론 : 나이에 따른 마일리지 변화가 있다. "
   ]
  },
  {
   "cell_type": "code",
   "execution_count": 3,
   "metadata": {},
   "outputs": [
    {
     "data": {
      "text/plain": [
       "age        10795\n",
       "Mileage    10795\n",
       "dtype: int64"
      ]
     },
     "execution_count": 3,
     "metadata": {},
     "output_type": "execute_result"
    }
   ],
   "source": [
    "data_df[['age','Mileage']].isna().sum()"
   ]
  },
  {
   "cell_type": "code",
   "execution_count": 4,
   "metadata": {},
   "outputs": [
    {
     "data": {
      "text/html": [
       "<div>\n",
       "<style scoped>\n",
       "    .dataframe tbody tr th:only-of-type {\n",
       "        vertical-align: middle;\n",
       "    }\n",
       "\n",
       "    .dataframe tbody tr th {\n",
       "        vertical-align: top;\n",
       "    }\n",
       "\n",
       "    .dataframe thead th {\n",
       "        text-align: right;\n",
       "    }\n",
       "</style>\n",
       "<table border=\"1\" class=\"dataframe\">\n",
       "  <thead>\n",
       "    <tr style=\"text-align: right;\">\n",
       "      <th></th>\n",
       "      <th>age</th>\n",
       "      <th>Mileage</th>\n",
       "    </tr>\n",
       "  </thead>\n",
       "  <tbody>\n",
       "    <tr>\n",
       "      <th>age</th>\n",
       "      <td>1.000000</td>\n",
       "      <td>0.973281</td>\n",
       "    </tr>\n",
       "    <tr>\n",
       "      <th>Mileage</th>\n",
       "      <td>0.973281</td>\n",
       "      <td>1.000000</td>\n",
       "    </tr>\n",
       "  </tbody>\n",
       "</table>\n",
       "</div>"
      ],
      "text/plain": [
       "              age   Mileage\n",
       "age      1.000000  0.973281\n",
       "Mileage  0.973281  1.000000"
      ]
     },
     "execution_count": 4,
     "metadata": {},
     "output_type": "execute_result"
    }
   ],
   "source": [
    "data_df[['age','Mileage']].corr() \n",
    "# 꼭 nan 확인해야함.\n",
    "# 둘이 같이 없는 경우가 아니면 위험한 결과 나올 수 있음.\n",
    "# 상관계수가 0.97이므로 관계가 있다."
   ]
  },
  {
   "cell_type": "markdown",
   "metadata": {},
   "source": [
    "### 정규 분포 여부 \n",
    "- age, mileage 는 정규분포 확인 됨. : 03.univariates.ipynb 참조\n",
    "-  "
   ]
  },
  {
   "cell_type": "markdown",
   "metadata": {},
   "source": [
    "### pearson test 진행"
   ]
  },
  {
   "cell_type": "code",
   "execution_count": 5,
   "metadata": {},
   "outputs": [],
   "source": [
    "import scipy.stats as stats"
   ]
  },
  {
   "cell_type": "code",
   "execution_count": 7,
   "metadata": {},
   "outputs": [
    {
     "data": {
      "text/plain": [
       "PearsonRResult(statistic=0.9732809346109912, pvalue=0.0)"
      ]
     },
     "execution_count": 7,
     "metadata": {},
     "output_type": "execute_result"
    }
   ],
   "source": [
    "stats.pearsonr(data_df['age'].dropna(), data_df['Mileage'].dropna())\n",
    "# pvalue=0.0 가 0.05 보다 작으므로 age와 Mileage는 대립가설 이다. "
   ]
  },
  {
   "cell_type": "markdown",
   "metadata": {},
   "source": [
    "### 비정규 분포 테스트 \n",
    "- age 는 정규분포 확인 됨.\n",
    "- mileage 는 400개만 써서 비정규분포로 만들어서 spearman test 진행  : 03.univariates.ipynb 참조\n",
    "- 분석 결과 \n",
    "  - 통계 결론 : 귀무 가설 성립, 정비례 관계\n",
    "  - 사실 결론 : 나이 따른 마일리지 변화가 없다."
   ]
  },
  {
   "cell_type": "markdown",
   "metadata": {},
   "source": [
    "### spearman test 진행"
   ]
  },
  {
   "cell_type": "code",
   "execution_count": 10,
   "metadata": {},
   "outputs": [
    {
     "data": {
      "text/plain": [
       "id                   400\n",
       "type_of_contract     400\n",
       "type_of_contract2    400\n",
       "channel              400\n",
       "datetime             400\n",
       "Term                 400\n",
       "payment_type         400\n",
       "product              400\n",
       "amount               400\n",
       "state                400\n",
       "overdue_count        400\n",
       "overdue              400\n",
       "credit rating        400\n",
       "bank                 400\n",
       "cancellation         400\n",
       "age                  400\n",
       "Mileage              400\n",
       "dtype: int64"
      ]
     },
     "execution_count": 10,
     "metadata": {},
     "output_type": "execute_result"
    }
   ],
   "source": [
    "mileage_400_df = data_df.dropna()[:400]\n",
    "mileage_400_df.count()"
   ]
  },
  {
   "cell_type": "code",
   "execution_count": 11,
   "metadata": {},
   "outputs": [
    {
     "data": {
      "text/plain": [
       "SignificanceResult(statistic=0.9734492598611446, pvalue=5.68288855390245e-257)"
      ]
     },
     "execution_count": 11,
     "metadata": {},
     "output_type": "execute_result"
    }
   ],
   "source": [
    "stats.spearmanr(mileage_400_df['Mileage'], mileage_400_df['age'])"
   ]
  },
  {
   "cell_type": "code",
   "execution_count": null,
   "metadata": {},
   "outputs": [],
   "source": []
  }
 ],
 "metadata": {
  "kernelspec": {
   "display_name": "Python 3",
   "language": "python",
   "name": "python3"
  },
  "language_info": {
   "codemirror_mode": {
    "name": "ipython",
    "version": 3
   },
   "file_extension": ".py",
   "mimetype": "text/x-python",
   "name": "python",
   "nbconvert_exporter": "python",
   "pygments_lexer": "ipython3",
   "version": "3.11.11"
  }
 },
 "nbformat": 4,
 "nbformat_minor": 2
}
