{
 "cells": [
  {
   "cell_type": "code",
   "execution_count": 71,
   "metadata": {},
   "outputs": [
    {
     "data": {
      "text/html": [
       "<div>\n",
       "<style scoped>\n",
       "    .dataframe tbody tr th:only-of-type {\n",
       "        vertical-align: middle;\n",
       "    }\n",
       "\n",
       "    .dataframe tbody tr th {\n",
       "        vertical-align: top;\n",
       "    }\n",
       "\n",
       "    .dataframe thead th {\n",
       "        text-align: right;\n",
       "    }\n",
       "</style>\n",
       "<table border=\"1\" class=\"dataframe\">\n",
       "  <thead>\n",
       "    <tr style=\"text-align: right;\">\n",
       "      <th></th>\n",
       "      <th>Id</th>\n",
       "      <th>MSSubClass</th>\n",
       "      <th>MSZoning</th>\n",
       "      <th>LotFrontage</th>\n",
       "      <th>LotArea</th>\n",
       "      <th>Street</th>\n",
       "      <th>Alley</th>\n",
       "      <th>LotShape</th>\n",
       "      <th>LandContour</th>\n",
       "      <th>Utilities</th>\n",
       "      <th>...</th>\n",
       "      <th>PoolArea</th>\n",
       "      <th>PoolQC</th>\n",
       "      <th>Fence</th>\n",
       "      <th>MiscFeature</th>\n",
       "      <th>MiscVal</th>\n",
       "      <th>MoSold</th>\n",
       "      <th>YrSold</th>\n",
       "      <th>SaleType</th>\n",
       "      <th>SaleCondition</th>\n",
       "      <th>SalePrice</th>\n",
       "    </tr>\n",
       "  </thead>\n",
       "  <tbody>\n",
       "    <tr>\n",
       "      <th>0</th>\n",
       "      <td>1</td>\n",
       "      <td>60</td>\n",
       "      <td>RL</td>\n",
       "      <td>65.0</td>\n",
       "      <td>8450</td>\n",
       "      <td>Pave</td>\n",
       "      <td>NaN</td>\n",
       "      <td>Reg</td>\n",
       "      <td>Lvl</td>\n",
       "      <td>AllPub</td>\n",
       "      <td>...</td>\n",
       "      <td>0</td>\n",
       "      <td>NaN</td>\n",
       "      <td>NaN</td>\n",
       "      <td>NaN</td>\n",
       "      <td>0</td>\n",
       "      <td>2</td>\n",
       "      <td>2008</td>\n",
       "      <td>WD</td>\n",
       "      <td>Normal</td>\n",
       "      <td>208500</td>\n",
       "    </tr>\n",
       "    <tr>\n",
       "      <th>1</th>\n",
       "      <td>2</td>\n",
       "      <td>20</td>\n",
       "      <td>RL</td>\n",
       "      <td>80.0</td>\n",
       "      <td>9600</td>\n",
       "      <td>Pave</td>\n",
       "      <td>NaN</td>\n",
       "      <td>Reg</td>\n",
       "      <td>Lvl</td>\n",
       "      <td>AllPub</td>\n",
       "      <td>...</td>\n",
       "      <td>0</td>\n",
       "      <td>NaN</td>\n",
       "      <td>NaN</td>\n",
       "      <td>NaN</td>\n",
       "      <td>0</td>\n",
       "      <td>5</td>\n",
       "      <td>2007</td>\n",
       "      <td>WD</td>\n",
       "      <td>Normal</td>\n",
       "      <td>181500</td>\n",
       "    </tr>\n",
       "    <tr>\n",
       "      <th>2</th>\n",
       "      <td>3</td>\n",
       "      <td>60</td>\n",
       "      <td>RL</td>\n",
       "      <td>68.0</td>\n",
       "      <td>11250</td>\n",
       "      <td>Pave</td>\n",
       "      <td>NaN</td>\n",
       "      <td>IR1</td>\n",
       "      <td>Lvl</td>\n",
       "      <td>AllPub</td>\n",
       "      <td>...</td>\n",
       "      <td>0</td>\n",
       "      <td>NaN</td>\n",
       "      <td>NaN</td>\n",
       "      <td>NaN</td>\n",
       "      <td>0</td>\n",
       "      <td>9</td>\n",
       "      <td>2008</td>\n",
       "      <td>WD</td>\n",
       "      <td>Normal</td>\n",
       "      <td>223500</td>\n",
       "    </tr>\n",
       "    <tr>\n",
       "      <th>3</th>\n",
       "      <td>4</td>\n",
       "      <td>70</td>\n",
       "      <td>RL</td>\n",
       "      <td>60.0</td>\n",
       "      <td>9550</td>\n",
       "      <td>Pave</td>\n",
       "      <td>NaN</td>\n",
       "      <td>IR1</td>\n",
       "      <td>Lvl</td>\n",
       "      <td>AllPub</td>\n",
       "      <td>...</td>\n",
       "      <td>0</td>\n",
       "      <td>NaN</td>\n",
       "      <td>NaN</td>\n",
       "      <td>NaN</td>\n",
       "      <td>0</td>\n",
       "      <td>2</td>\n",
       "      <td>2006</td>\n",
       "      <td>WD</td>\n",
       "      <td>Abnorml</td>\n",
       "      <td>140000</td>\n",
       "    </tr>\n",
       "    <tr>\n",
       "      <th>4</th>\n",
       "      <td>5</td>\n",
       "      <td>60</td>\n",
       "      <td>RL</td>\n",
       "      <td>84.0</td>\n",
       "      <td>14260</td>\n",
       "      <td>Pave</td>\n",
       "      <td>NaN</td>\n",
       "      <td>IR1</td>\n",
       "      <td>Lvl</td>\n",
       "      <td>AllPub</td>\n",
       "      <td>...</td>\n",
       "      <td>0</td>\n",
       "      <td>NaN</td>\n",
       "      <td>NaN</td>\n",
       "      <td>NaN</td>\n",
       "      <td>0</td>\n",
       "      <td>12</td>\n",
       "      <td>2008</td>\n",
       "      <td>WD</td>\n",
       "      <td>Normal</td>\n",
       "      <td>250000</td>\n",
       "    </tr>\n",
       "  </tbody>\n",
       "</table>\n",
       "<p>5 rows × 81 columns</p>\n",
       "</div>"
      ],
      "text/plain": [
       "   Id  MSSubClass MSZoning  LotFrontage  LotArea Street Alley LotShape  \\\n",
       "0   1          60       RL         65.0     8450   Pave   NaN      Reg   \n",
       "1   2          20       RL         80.0     9600   Pave   NaN      Reg   \n",
       "2   3          60       RL         68.0    11250   Pave   NaN      IR1   \n",
       "3   4          70       RL         60.0     9550   Pave   NaN      IR1   \n",
       "4   5          60       RL         84.0    14260   Pave   NaN      IR1   \n",
       "\n",
       "  LandContour Utilities  ... PoolArea PoolQC Fence MiscFeature MiscVal MoSold  \\\n",
       "0         Lvl    AllPub  ...        0    NaN   NaN         NaN       0      2   \n",
       "1         Lvl    AllPub  ...        0    NaN   NaN         NaN       0      5   \n",
       "2         Lvl    AllPub  ...        0    NaN   NaN         NaN       0      9   \n",
       "3         Lvl    AllPub  ...        0    NaN   NaN         NaN       0      2   \n",
       "4         Lvl    AllPub  ...        0    NaN   NaN         NaN       0     12   \n",
       "\n",
       "  YrSold  SaleType  SaleCondition  SalePrice  \n",
       "0   2008        WD         Normal     208500  \n",
       "1   2007        WD         Normal     181500  \n",
       "2   2008        WD         Normal     223500  \n",
       "3   2006        WD        Abnorml     140000  \n",
       "4   2008        WD         Normal     250000  \n",
       "\n",
       "[5 rows x 81 columns]"
      ]
     },
     "execution_count": 71,
     "metadata": {},
     "output_type": "execute_result"
    }
   ],
   "source": [
    "import matplotlib.pyplot as plt\n",
    "import matplotlib as mpl # 한글 폰트 설정 (NanumGothic) \n",
    "mpl.rcParams['font.family'] = 'NanumGothic'\n",
    "mpl.rcParams['axes.unicode_minus'] = False  # 마이너스 기호 깨짐 방지\n",
    "import seaborn as sns\n",
    "import pandas as pd\n",
    "import numpy as np \n",
    "import scipy.stats as stats\n",
    "data_df = pd.read_csv('../../datasets/House_Prices_train.csv')\n",
    "data_df.head()"
   ]
  },
  {
   "cell_type": "code",
   "execution_count": 72,
   "metadata": {},
   "outputs": [
    {
     "name": "stdout",
     "output_type": "stream",
     "text": [
      "<class 'pandas.core.frame.DataFrame'>\n",
      "Index: 1121 entries, 0 to 1459\n",
      "Data columns (total 38 columns):\n",
      " #   Column         Non-Null Count  Dtype  \n",
      "---  ------         --------------  -----  \n",
      " 0   Id             1121 non-null   int64  \n",
      " 1   MSSubClass     1121 non-null   int64  \n",
      " 2   LotFrontage    1121 non-null   float64\n",
      " 3   LotArea        1121 non-null   int64  \n",
      " 4   OverallQual    1121 non-null   int64  \n",
      " 5   OverallCond    1121 non-null   int64  \n",
      " 6   YearBuilt      1121 non-null   int64  \n",
      " 7   YearRemodAdd   1121 non-null   int64  \n",
      " 8   MasVnrArea     1121 non-null   float64\n",
      " 9   BsmtFinSF1     1121 non-null   int64  \n",
      " 10  BsmtFinSF2     1121 non-null   int64  \n",
      " 11  BsmtUnfSF      1121 non-null   int64  \n",
      " 12  TotalBsmtSF    1121 non-null   int64  \n",
      " 13  1stFlrSF       1121 non-null   int64  \n",
      " 14  2ndFlrSF       1121 non-null   int64  \n",
      " 15  LowQualFinSF   1121 non-null   int64  \n",
      " 16  GrLivArea      1121 non-null   int64  \n",
      " 17  BsmtFullBath   1121 non-null   int64  \n",
      " 18  BsmtHalfBath   1121 non-null   int64  \n",
      " 19  FullBath       1121 non-null   int64  \n",
      " 20  HalfBath       1121 non-null   int64  \n",
      " 21  BedroomAbvGr   1121 non-null   int64  \n",
      " 22  KitchenAbvGr   1121 non-null   int64  \n",
      " 23  TotRmsAbvGrd   1121 non-null   int64  \n",
      " 24  Fireplaces     1121 non-null   int64  \n",
      " 25  GarageYrBlt    1121 non-null   float64\n",
      " 26  GarageCars     1121 non-null   int64  \n",
      " 27  GarageArea     1121 non-null   int64  \n",
      " 28  WoodDeckSF     1121 non-null   int64  \n",
      " 29  OpenPorchSF    1121 non-null   int64  \n",
      " 30  EnclosedPorch  1121 non-null   int64  \n",
      " 31  3SsnPorch      1121 non-null   int64  \n",
      " 32  ScreenPorch    1121 non-null   int64  \n",
      " 33  PoolArea       1121 non-null   int64  \n",
      " 34  MiscVal        1121 non-null   int64  \n",
      " 35  MoSold         1121 non-null   int64  \n",
      " 36  YrSold         1121 non-null   int64  \n",
      " 37  SalePrice      1121 non-null   int64  \n",
      "dtypes: float64(3), int64(35)\n",
      "memory usage: 341.6 KB\n"
     ]
    }
   ],
   "source": [
    "numeric_columns = data_df.select_dtypes(include=['int64', 'float64']).columns\n",
    "numeric_data_df = data_df[numeric_columns]\n",
    "numeric_data_df = numeric_data_df.dropna()\n",
    "numeric_data_df.info()"
   ]
  },
  {
   "cell_type": "markdown",
   "metadata": {},
   "source": [
    "### 상관 관계 확인\n",
    "- GarageYrBlt    GarageArea     0.592635  \n",
    "- YearRemodAdd     SalePrice     0.521253\n",
    "- YearRemodAdd   GarageYrBlt     0.645808    \n",
    "- 상관 관계가 0.5 이상인 3쌍의 결과를 보고자 함.  "
   ]
  },
  {
   "cell_type": "code",
   "execution_count": 73,
   "metadata": {},
   "outputs": [
    {
     "name": "stdout",
     "output_type": "stream",
     "text": [
      "        Column 1      Column 2  Correlation  Abs Correlation\n",
      "42    GarageCars    GarageArea     0.839415         0.839415\n",
      "20   TotalBsmtSF      1stFlrSF     0.835999         0.835999\n",
      "32     GrLivArea  TotRmsAbvGrd     0.824312         0.824312\n",
      "12     YearBuilt   GarageYrBlt     0.823520         0.823520\n",
      "9    OverallQual     SalePrice     0.797881         0.797881\n",
      "33     GrLivArea     SalePrice     0.705154         0.705154\n",
      "26      2ndFlrSF     GrLivArea     0.688292         0.688292\n",
      "19    BsmtFinSF1  BsmtFullBath     0.651727         0.651727\n",
      "37  BedroomAbvGr  TotRmsAbvGrd     0.650285         0.650285\n",
      "43    GarageCars     SalePrice     0.647034         0.647034\n",
      "15  YearRemodAdd   GarageYrBlt     0.645808         0.645808\n",
      "10     YearBuilt  YearRemodAdd     0.623171         0.623171\n",
      "44    GarageArea     SalePrice     0.619330         0.619330\n",
      "29      2ndFlrSF  TotRmsAbvGrd     0.617776         0.617776\n",
      "22   TotalBsmtSF     SalePrice     0.615612         0.615612\n",
      "30     GrLivArea      FullBath     0.614887         0.614887\n",
      "25      1stFlrSF     SalePrice     0.607969         0.607969\n",
      "4    OverallQual     GrLivArea     0.607466         0.607466\n",
      "27      2ndFlrSF      HalfBath     0.606337         0.606337\n",
      "39   GarageYrBlt    GarageCars     0.600903         0.600903\n",
      "7    OverallQual    GarageCars     0.593803         0.593803\n",
      "40   GarageYrBlt    GarageArea     0.592635         0.592635\n",
      "0    OverallQual     YearBuilt     0.589385         0.589385\n",
      "5    OverallQual      FullBath     0.576875         0.576875\n",
      "1    OverallQual  YearRemodAdd     0.570757         0.570757\n",
      "36      FullBath     SalePrice     0.566627         0.566627\n",
      "2    OverallQual   TotalBsmtSF     0.563960         0.563960\n",
      "23      1stFlrSF     GrLivArea     0.561372         0.561372\n",
      "6    OverallQual   GarageYrBlt     0.560425         0.560425\n",
      "8    OverallQual    GarageArea     0.550659         0.550659\n",
      "38  TotRmsAbvGrd     SalePrice     0.547067         0.547067\n",
      "34      FullBath  TotRmsAbvGrd     0.540449         0.540449\n",
      "13     YearBuilt    GarageCars     0.532563         0.532563\n",
      "18    BsmtFinSF1   TotalBsmtSF     0.530917         0.530917\n",
      "14     YearBuilt     SalePrice     0.525394         0.525394\n",
      "21   TotalBsmtSF    GarageArea     0.522051         0.522051\n",
      "16  YearRemodAdd     SalePrice     0.521253         0.521253\n",
      "24      1stFlrSF    GarageArea     0.521183         0.521183\n",
      "35      FullBath    GarageCars     0.520857         0.520857\n",
      "3    OverallQual      1stFlrSF     0.514453         0.514453\n",
      "31     GrLivArea  BedroomAbvGr     0.511940         0.511940\n",
      "28      2ndFlrSF  BedroomAbvGr     0.510703         0.510703\n",
      "41   GarageYrBlt     SalePrice     0.504753         0.504753\n",
      "17    BsmtFinSF1     BsmtUnfSF    -0.502225         0.502225\n",
      "11     YearBuilt      FullBath     0.500495         0.500495\n"
     ]
    }
   ],
   "source": [
    "# 상관계수가 높은 쌍 찾기\n",
    "corr_df = numeric_data_df.corr()\n",
    "high_corr_pairs = []\n",
    "\n",
    "for i in range(len(corr_df.columns)):\n",
    "    for j in range(i + 1, len(corr_df.columns)):\n",
    "        correlation = corr_df.iloc[i, j]\n",
    "        if abs(correlation) >= 0.5:\n",
    "        # if correlation <= -0.1:\n",
    "            col1 = corr_df.columns[i]\n",
    "            col2 = corr_df.columns[j]\n",
    "            high_corr_pairs.append({\n",
    "                'Column 1': col1,\n",
    "                'Column 2': col2,\n",
    "                'Correlation': correlation,\n",
    "                'Abs Correlation': abs(correlation)\n",
    "            })\n",
    "\n",
    "# 결과를 DataFrame으로 변환하고 절대값 기준으로 정렬\n",
    "result_df = pd.DataFrame(high_corr_pairs).sort_values(by='Abs Correlation', ascending=False)\n",
    "print(result_df)"
   ]
  },
  {
   "cell_type": "code",
   "execution_count": 74,
   "metadata": {},
   "outputs": [],
   "source": [
    "\n",
    "# GarageYrBlt    GarageArea     0.592635  \n",
    "# YearRemodAdd     SalePrice     0.521253\n",
    "# YearRemodAdd   GarageYrBlt     0.645808        \n",
    "# - GarageYrBlt\n",
    "# - GarageArea 0.564567\n",
    "# - YearRemodAdd\n",
    "# - SalePrice 0.507101\n",
    "\n",
    "# GarageCars    GarageArea\n",
    "# OverallQual    GarageCars\n",
    "# 2ndFlrSF  BedroomAbvGr\n",
    "# - GarageCars    \n",
    "# - GarageArea\n",
    "# - OverallQual    \n",
    "# - GarageCars\n",
    "# - 2ndFlrSF  \n",
    "# - BedroomAbvGr\n",
    "# - TotRmsAbvGrd"
   ]
  },
  {
   "cell_type": "markdown",
   "metadata": {},
   "source": [
    "### spearman 검정 결과\n",
    "- 귀무가설: GarageYrBlt GarageArea 간에 관계가 없다\n",
    "- 대립가설: GarageYrBlt GarageArea 간에 관계가 있다\n",
    "- 검정 결과:\n",
    "p-value = 2.32e-124 < 0.05\n",
    "- 대립가설 성립\n",
    "- 사실가설 : GarageYrBlt 따라 GarageArea 달라진다 ?"
   ]
  },
  {
   "cell_type": "markdown",
   "metadata": {},
   "source": [
    "### spearman 검정 결과\n",
    "- 귀무가설: YearRemodAdd SalePrice 간에 관계가 없다\n",
    "- 대립가설: YearRemodAdd SalePrice 간에 관계가 있다\n",
    "- 검정 결과:\n",
    "p-value = 1.01e-118 < 0.05\n",
    "- 대립가설 성립\n",
    "- 사실가설 : YearRemodAdd 따라 SalePrice 달라진다 ?"
   ]
  },
  {
   "cell_type": "markdown",
   "metadata": {},
   "source": [
    "### spearman 검정 결과\n",
    "- 귀무가설: YearRemodAdd GarageYrBlt 간에 관계가 없다\n",
    "- 대립가설: YearRemodAdd GarageYrBlt 간에 관계가 있다\n",
    "- 검정 결과:\n",
    "p-value = 2.00e-195 < 0.05\n",
    "- 대립가설 성립\n",
    "- 사실가설 : YearRemodAdd 따라 GarageYrBlt 달라진다 ?"
   ]
  },
  {
   "cell_type": "markdown",
   "metadata": {},
   "source": [
    "### pearson test "
   ]
  },
  {
   "cell_type": "code",
   "execution_count": null,
   "metadata": {},
   "outputs": [],
   "source": [
    "# GarageYrBlt    GarageArea     0.564567 \n",
    "# YearRemodAdd     SalePrice     0.507101\n",
    "# YearRemodAdd   GarageYrBlt     0.642277  "
   ]
  },
  {
   "cell_type": "code",
   "execution_count": 75,
   "metadata": {},
   "outputs": [
    {
     "data": {
      "text/plain": [
       "PearsonRResult(statistic=0.5926352461560301, pvalue=2.976807076626612e-107)"
      ]
     },
     "execution_count": 75,
     "metadata": {},
     "output_type": "execute_result"
    }
   ],
   "source": [
    "stats.pearsonr(numeric_data_df['GarageYrBlt'], numeric_data_df['GarageArea'])"
   ]
  },
  {
   "cell_type": "code",
   "execution_count": 76,
   "metadata": {},
   "outputs": [
    {
     "data": {
      "text/plain": [
       "PearsonRResult(statistic=0.5212532703794038, pvalue=4.171636654478638e-79)"
      ]
     },
     "execution_count": 76,
     "metadata": {},
     "output_type": "execute_result"
    }
   ],
   "source": [
    "stats.pearsonr(numeric_data_df['YearRemodAdd'], numeric_data_df['SalePrice'])\n"
   ]
  },
  {
   "cell_type": "code",
   "execution_count": 77,
   "metadata": {},
   "outputs": [
    {
     "data": {
      "text/plain": [
       "PearsonRResult(statistic=0.6458084677957082, pvalue=2.6900292579312534e-133)"
      ]
     },
     "execution_count": 77,
     "metadata": {},
     "output_type": "execute_result"
    }
   ],
   "source": [
    "stats.pearsonr(numeric_data_df['YearRemodAdd'], numeric_data_df['GarageYrBlt'])\n"
   ]
  },
  {
   "cell_type": "markdown",
   "metadata": {},
   "source": [
    "### spearman test 진행\n"
   ]
  },
  {
   "cell_type": "code",
   "execution_count": 78,
   "metadata": {},
   "outputs": [
    {
     "data": {
      "text/plain": [
       "SignificanceResult(statistic=0.6286948039658112, pvalue=2.329298112625989e-124)"
      ]
     },
     "execution_count": 78,
     "metadata": {},
     "output_type": "execute_result"
    }
   ],
   "source": [
    "stats.spearmanr(numeric_data_df['GarageYrBlt'], numeric_data_df['GarageArea'])"
   ]
  },
  {
   "cell_type": "code",
   "execution_count": 79,
   "metadata": {},
   "outputs": [
    {
     "data": {
      "text/plain": [
       "SignificanceResult(statistic=0.6173111892164376, pvalue=1.0198029818398026e-118)"
      ]
     },
     "execution_count": 79,
     "metadata": {},
     "output_type": "execute_result"
    }
   ],
   "source": [
    "stats.spearmanr(numeric_data_df['YearRemodAdd'], numeric_data_df['SalePrice'])\n"
   ]
  },
  {
   "cell_type": "code",
   "execution_count": 80,
   "metadata": {},
   "outputs": [
    {
     "data": {
      "text/plain": [
       "SignificanceResult(statistic=0.7405920610019816, pvalue=2.000492519726849e-195)"
      ]
     },
     "execution_count": 80,
     "metadata": {},
     "output_type": "execute_result"
    }
   ],
   "source": [
    "stats.spearmanr(numeric_data_df['YearRemodAdd'], numeric_data_df['GarageYrBlt'])\n"
   ]
  },
  {
   "cell_type": "markdown",
   "metadata": {},
   "source": [
    "### 정규 분포 여부 \n",
    "- 아래 컬럼들은 p-value 값이 모두 0.05 보다 작으므로 비정규 분포에 포함된다.\n",
    "- GarageYrBlt\n",
    "- GarageArea\n",
    "- YearRemodAdd\n",
    "- SalePrice"
   ]
  },
  {
   "cell_type": "code",
   "execution_count": 81,
   "metadata": {},
   "outputs": [
    {
     "data": {
      "text/plain": [
       "ShapiroResult(statistic=0.9107807295068578, pvalue=4.0958521649773303e-25)"
      ]
     },
     "execution_count": 81,
     "metadata": {},
     "output_type": "execute_result"
    }
   ],
   "source": [
    "stats.shapiro(x=numeric_data_df['GarageYrBlt'])"
   ]
  },
  {
   "cell_type": "code",
   "execution_count": 82,
   "metadata": {},
   "outputs": [
    {
     "data": {
      "image/png": "[encoded data removed]",
      "text/plain": [
       "<Figure size 640x480 with 1 Axes>"
      ]
     },
     "metadata": {},
     "output_type": "display_data"
    }
   ],
   "source": [
    "sns.histplot(data=numeric_data_df, x='GarageYrBlt',kde=True)\n",
    "plt.show()"
   ]
  },
  {
   "cell_type": "code",
   "execution_count": 83,
   "metadata": {},
   "outputs": [
    {
     "data": {
      "text/plain": [
       "ShapiroResult(statistic=0.9609336501539587, pvalue=9.289853287255519e-17)"
      ]
     },
     "execution_count": 83,
     "metadata": {},
     "output_type": "execute_result"
    }
   ],
   "source": [
    "stats.shapiro(x=numeric_data_df['GarageArea'])\n"
   ]
  },
  {
   "cell_type": "code",
   "execution_count": 84,
   "metadata": {},
   "outputs": [
    {
     "data": {
      "image/png": "[encoded data removed]",
      "text/plain": [
       "<Figure size 640x480 with 1 Axes>"
      ]
     },
     "metadata": {},
     "output_type": "display_data"
    }
   ],
   "source": [
    "sns.histplot(data=numeric_data_df, x='GarageArea',kde=True)\n",
    "plt.show()"
   ]
  },
  {
   "cell_type": "code",
   "execution_count": 85,
   "metadata": {},
   "outputs": [
    {
     "data": {
      "text/plain": [
       "ShapiroResult(statistic=0.8442889285436015, pvalue=8.963280657991543e-32)"
      ]
     },
     "execution_count": 85,
     "metadata": {},
     "output_type": "execute_result"
    }
   ],
   "source": [
    "stats.shapiro(x=numeric_data_df['YearRemodAdd'])\n"
   ]
  },
  {
   "cell_type": "code",
   "execution_count": 86,
   "metadata": {},
   "outputs": [
    {
     "data": {
      "image/png": "[encoded data removed]",
      "text/plain": [
       "<Figure size 640x480 with 1 Axes>"
      ]
     },
     "metadata": {},
     "output_type": "display_data"
    }
   ],
   "source": [
    "sns.histplot(data=numeric_data_df, x='YearRemodAdd',kde=True)\n",
    "plt.show()"
   ]
  },
  {
   "cell_type": "code",
   "execution_count": 87,
   "metadata": {},
   "outputs": [
    {
     "data": {
      "text/plain": [
       "ShapiroResult(statistic=0.8561443420381314, pvalue=8.911584969864257e-31)"
      ]
     },
     "execution_count": 87,
     "metadata": {},
     "output_type": "execute_result"
    }
   ],
   "source": [
    "stats.shapiro(x=numeric_data_df['SalePrice'])\n"
   ]
  },
  {
   "cell_type": "code",
   "execution_count": 88,
   "metadata": {},
   "outputs": [
    {
     "data": {
      "image/png": "[encoded data removed]",
      "text/plain": [
       "<Figure size 640x480 with 1 Axes>"
      ]
     },
     "metadata": {},
     "output_type": "display_data"
    }
   ],
   "source": [
    "sns.histplot(data=numeric_data_df, x='SalePrice',kde=True)\n",
    "plt.show()"
   ]
  },
  {
   "cell_type": "code",
   "execution_count": 89,
   "metadata": {},
   "outputs": [
    {
     "data": {
      "text/plain": [
       "AndersonResult(statistic=31.399117864146547, critical_values=array([0.574, 0.654, 0.784, 0.915, 1.088]), significance_level=array([15. , 10. ,  5. ,  2.5,  1. ]), fit_result=  params: FitParams(loc=1978.399643175736, scale=25.822833193866956)\n",
       " success: True\n",
       " message: '`anderson` successfully fit the distribution to the data.')"
      ]
     },
     "execution_count": 89,
     "metadata": {},
     "output_type": "execute_result"
    }
   ],
   "source": [
    "results = stats.anderson(numeric_data_df['GarageYrBlt'])\n",
    "results"
   ]
  },
  {
   "cell_type": "code",
   "execution_count": 90,
   "metadata": {},
   "outputs": [
    {
     "data": {
      "text/plain": [
       "(array([15. , 10. ,  5. ,  2.5,  1. ]),\n",
       " array([0.574, 0.654, 0.784, 0.915, 1.088]))"
      ]
     },
     "execution_count": 90,
     "metadata": {},
     "output_type": "execute_result"
    }
   ],
   "source": [
    "results.significance_level, results.critical_values"
   ]
  },
  {
   "cell_type": "code",
   "execution_count": 91,
   "metadata": {},
   "outputs": [
    {
     "data": {
      "text/plain": [
       "AndersonResult(statistic=9.11348550870207, critical_values=array([0.574, 0.654, 0.784, 0.915, 1.088]), significance_level=array([15. , 10. ,  5. ,  2.5,  1. ]), fit_result=  params: FitParams(loc=502.95539696699376, scale=191.2430432204574)\n",
       " success: True\n",
       " message: '`anderson` successfully fit the distribution to the data.')"
      ]
     },
     "execution_count": 91,
     "metadata": {},
     "output_type": "execute_result"
    }
   ],
   "source": [
    "results = stats.anderson(numeric_data_df['GarageArea'])\n",
    "results"
   ]
  },
  {
   "cell_type": "code",
   "execution_count": 92,
   "metadata": {},
   "outputs": [
    {
     "data": {
      "text/plain": [
       "(array([15. , 10. ,  5. ,  2.5,  1. ]),\n",
       " array([0.574, 0.654, 0.784, 0.915, 1.088]))"
      ]
     },
     "execution_count": 92,
     "metadata": {},
     "output_type": "execute_result"
    }
   ],
   "source": [
    "results.significance_level, results.critical_values"
   ]
  },
  {
   "cell_type": "code",
   "execution_count": 93,
   "metadata": {},
   "outputs": [
    {
     "data": {
      "text/plain": [
       "AndersonResult(statistic=65.0559627366033, critical_values=array([0.574, 0.654, 0.784, 0.915, 1.088]), significance_level=array([15. , 10. ,  5. ,  2.5,  1. ]), fit_result=  params: FitParams(loc=1985.6833184656557, scale=21.02597411653933)\n",
       " success: True\n",
       " message: '`anderson` successfully fit the distribution to the data.')"
      ]
     },
     "execution_count": 93,
     "metadata": {},
     "output_type": "execute_result"
    }
   ],
   "source": [
    "results = stats.anderson(numeric_data_df['YearRemodAdd'])\n",
    "results"
   ]
  },
  {
   "cell_type": "code",
   "execution_count": 94,
   "metadata": {},
   "outputs": [
    {
     "data": {
      "text/plain": [
       "(array([15. , 10. ,  5. ,  2.5,  1. ]),\n",
       " array([0.574, 0.654, 0.784, 0.915, 1.088]))"
      ]
     },
     "execution_count": 94,
     "metadata": {},
     "output_type": "execute_result"
    }
   ],
   "source": [
    "results.significance_level, results.critical_values"
   ]
  },
  {
   "cell_type": "code",
   "execution_count": 95,
   "metadata": {},
   "outputs": [
    {
     "data": {
      "text/plain": [
       "AndersonResult(statistic=37.78039907239554, critical_values=array([0.574, 0.654, 0.784, 0.915, 1.088]), significance_level=array([15. , 10. ,  5. ,  2.5,  1. ]), fit_result=  params: FitParams(loc=185506.15254237287, scale=82999.15900446841)\n",
       " success: True\n",
       " message: '`anderson` successfully fit the distribution to the data.')"
      ]
     },
     "execution_count": 95,
     "metadata": {},
     "output_type": "execute_result"
    }
   ],
   "source": [
    "results = stats.anderson(numeric_data_df['SalePrice'])\n",
    "results"
   ]
  },
  {
   "cell_type": "code",
   "execution_count": 96,
   "metadata": {},
   "outputs": [
    {
     "data": {
      "text/plain": [
       "(array([15. , 10. ,  5. ,  2.5,  1. ]),\n",
       " array([0.574, 0.654, 0.784, 0.915, 1.088]))"
      ]
     },
     "execution_count": 96,
     "metadata": {},
     "output_type": "execute_result"
    }
   ],
   "source": [
    "results.significance_level, results.critical_values\n"
   ]
  }
 ],
 "metadata": {
  "kernelspec": {
   "display_name": "Python 3",
   "language": "python",
   "name": "python3"
  },
  "language_info": {
   "codemirror_mode": {
    "name": "ipython",
    "version": 3
   },
   "file_extension": ".py",
   "mimetype": "text/x-python",
   "name": "python",
   "nbconvert_exporter": "python",
   "pygments_lexer": "ipython3",
   "version": "3.11.11"
  }
 },
 "nbformat": 4,
 "nbformat_minor": 2
}
