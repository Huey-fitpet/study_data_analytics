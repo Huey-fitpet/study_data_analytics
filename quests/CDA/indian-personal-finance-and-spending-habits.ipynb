{
 "cells": [
  {
   "cell_type": "code",
   "execution_count": 2,
   "metadata": {},
   "outputs": [
    {
     "data": {
      "text/html": [
       "<div>\n",
       "<style scoped>\n",
       "    .dataframe tbody tr th:only-of-type {\n",
       "        vertical-align: middle;\n",
       "    }\n",
       "\n",
       "    .dataframe tbody tr th {\n",
       "        vertical-align: top;\n",
       "    }\n",
       "\n",
       "    .dataframe thead th {\n",
       "        text-align: right;\n",
       "    }\n",
       "</style>\n",
       "<table border=\"1\" class=\"dataframe\">\n",
       "  <thead>\n",
       "    <tr style=\"text-align: right;\">\n",
       "      <th></th>\n",
       "      <th>Income</th>\n",
       "      <th>Age</th>\n",
       "      <th>Dependents</th>\n",
       "      <th>Occupation</th>\n",
       "      <th>City_Tier</th>\n",
       "      <th>Rent</th>\n",
       "      <th>Loan_Repayment</th>\n",
       "      <th>Insurance</th>\n",
       "      <th>Groceries</th>\n",
       "      <th>Transport</th>\n",
       "      <th>...</th>\n",
       "      <th>Desired_Savings</th>\n",
       "      <th>Disposable_Income</th>\n",
       "      <th>Potential_Savings_Groceries</th>\n",
       "      <th>Potential_Savings_Transport</th>\n",
       "      <th>Potential_Savings_Eating_Out</th>\n",
       "      <th>Potential_Savings_Entertainment</th>\n",
       "      <th>Potential_Savings_Utilities</th>\n",
       "      <th>Potential_Savings_Healthcare</th>\n",
       "      <th>Potential_Savings_Education</th>\n",
       "      <th>Potential_Savings_Miscellaneous</th>\n",
       "    </tr>\n",
       "  </thead>\n",
       "  <tbody>\n",
       "    <tr>\n",
       "      <th>0</th>\n",
       "      <td>44637.249636</td>\n",
       "      <td>49</td>\n",
       "      <td>0</td>\n",
       "      <td>Self_Employed</td>\n",
       "      <td>Tier_1</td>\n",
       "      <td>13391.174891</td>\n",
       "      <td>0.000000</td>\n",
       "      <td>2206.490129</td>\n",
       "      <td>6658.768341</td>\n",
       "      <td>2636.970696</td>\n",
       "      <td>...</td>\n",
       "      <td>6200.537192</td>\n",
       "      <td>11265.627707</td>\n",
       "      <td>1685.696222</td>\n",
       "      <td>328.895281</td>\n",
       "      <td>465.769172</td>\n",
       "      <td>195.151320</td>\n",
       "      <td>678.292859</td>\n",
       "      <td>67.682471</td>\n",
       "      <td>0.000000</td>\n",
       "      <td>85.735517</td>\n",
       "    </tr>\n",
       "    <tr>\n",
       "      <th>1</th>\n",
       "      <td>26858.596592</td>\n",
       "      <td>34</td>\n",
       "      <td>2</td>\n",
       "      <td>Retired</td>\n",
       "      <td>Tier_2</td>\n",
       "      <td>5371.719318</td>\n",
       "      <td>0.000000</td>\n",
       "      <td>869.522617</td>\n",
       "      <td>2818.444460</td>\n",
       "      <td>1543.018778</td>\n",
       "      <td>...</td>\n",
       "      <td>1923.176434</td>\n",
       "      <td>9676.818733</td>\n",
       "      <td>540.306561</td>\n",
       "      <td>119.347139</td>\n",
       "      <td>141.866089</td>\n",
       "      <td>234.131168</td>\n",
       "      <td>286.668408</td>\n",
       "      <td>6.603212</td>\n",
       "      <td>56.306874</td>\n",
       "      <td>97.388606</td>\n",
       "    </tr>\n",
       "    <tr>\n",
       "      <th>2</th>\n",
       "      <td>50367.605084</td>\n",
       "      <td>35</td>\n",
       "      <td>1</td>\n",
       "      <td>Student</td>\n",
       "      <td>Tier_3</td>\n",
       "      <td>7555.140763</td>\n",
       "      <td>4612.103386</td>\n",
       "      <td>2201.800050</td>\n",
       "      <td>6313.222081</td>\n",
       "      <td>3221.396403</td>\n",
       "      <td>...</td>\n",
       "      <td>7050.360422</td>\n",
       "      <td>13891.450624</td>\n",
       "      <td>1466.073984</td>\n",
       "      <td>473.549752</td>\n",
       "      <td>410.857129</td>\n",
       "      <td>459.965256</td>\n",
       "      <td>488.383423</td>\n",
       "      <td>7.290892</td>\n",
       "      <td>106.653597</td>\n",
       "      <td>138.542422</td>\n",
       "    </tr>\n",
       "    <tr>\n",
       "      <th>3</th>\n",
       "      <td>101455.600247</td>\n",
       "      <td>21</td>\n",
       "      <td>0</td>\n",
       "      <td>Self_Employed</td>\n",
       "      <td>Tier_3</td>\n",
       "      <td>15218.340037</td>\n",
       "      <td>6809.441427</td>\n",
       "      <td>4889.418087</td>\n",
       "      <td>14690.149363</td>\n",
       "      <td>7106.130005</td>\n",
       "      <td>...</td>\n",
       "      <td>16694.965136</td>\n",
       "      <td>31617.953615</td>\n",
       "      <td>1875.932770</td>\n",
       "      <td>762.020789</td>\n",
       "      <td>1241.017448</td>\n",
       "      <td>320.190594</td>\n",
       "      <td>1389.815033</td>\n",
       "      <td>193.502754</td>\n",
       "      <td>0.000000</td>\n",
       "      <td>296.041183</td>\n",
       "    </tr>\n",
       "    <tr>\n",
       "      <th>4</th>\n",
       "      <td>24875.283548</td>\n",
       "      <td>52</td>\n",
       "      <td>4</td>\n",
       "      <td>Professional</td>\n",
       "      <td>Tier_2</td>\n",
       "      <td>4975.056710</td>\n",
       "      <td>3112.609398</td>\n",
       "      <td>635.907170</td>\n",
       "      <td>3034.329665</td>\n",
       "      <td>1276.155163</td>\n",
       "      <td>...</td>\n",
       "      <td>1874.099434</td>\n",
       "      <td>6265.700532</td>\n",
       "      <td>788.953124</td>\n",
       "      <td>68.160766</td>\n",
       "      <td>61.712505</td>\n",
       "      <td>187.173750</td>\n",
       "      <td>194.117130</td>\n",
       "      <td>47.294591</td>\n",
       "      <td>67.388120</td>\n",
       "      <td>96.557076</td>\n",
       "    </tr>\n",
       "  </tbody>\n",
       "</table>\n",
       "<p>5 rows × 27 columns</p>\n",
       "</div>"
      ],
      "text/plain": [
       "          Income  Age  Dependents     Occupation City_Tier          Rent  \\\n",
       "0   44637.249636   49           0  Self_Employed    Tier_1  13391.174891   \n",
       "1   26858.596592   34           2        Retired    Tier_2   5371.719318   \n",
       "2   50367.605084   35           1        Student    Tier_3   7555.140763   \n",
       "3  101455.600247   21           0  Self_Employed    Tier_3  15218.340037   \n",
       "4   24875.283548   52           4   Professional    Tier_2   4975.056710   \n",
       "\n",
       "   Loan_Repayment    Insurance     Groceries    Transport  ...  \\\n",
       "0        0.000000  2206.490129   6658.768341  2636.970696  ...   \n",
       "1        0.000000   869.522617   2818.444460  1543.018778  ...   \n",
       "2     4612.103386  2201.800050   6313.222081  3221.396403  ...   \n",
       "3     6809.441427  4889.418087  14690.149363  7106.130005  ...   \n",
       "4     3112.609398   635.907170   3034.329665  1276.155163  ...   \n",
       "\n",
       "   Desired_Savings  Disposable_Income  Potential_Savings_Groceries  \\\n",
       "0      6200.537192       11265.627707                  1685.696222   \n",
       "1      1923.176434        9676.818733                   540.306561   \n",
       "2      7050.360422       13891.450624                  1466.073984   \n",
       "3     16694.965136       31617.953615                  1875.932770   \n",
       "4      1874.099434        6265.700532                   788.953124   \n",
       "\n",
       "   Potential_Savings_Transport  Potential_Savings_Eating_Out  \\\n",
       "0                   328.895281                    465.769172   \n",
       "1                   119.347139                    141.866089   \n",
       "2                   473.549752                    410.857129   \n",
       "3                   762.020789                   1241.017448   \n",
       "4                    68.160766                     61.712505   \n",
       "\n",
       "   Potential_Savings_Entertainment  Potential_Savings_Utilities  \\\n",
       "0                       195.151320                   678.292859   \n",
       "1                       234.131168                   286.668408   \n",
       "2                       459.965256                   488.383423   \n",
       "3                       320.190594                  1389.815033   \n",
       "4                       187.173750                   194.117130   \n",
       "\n",
       "   Potential_Savings_Healthcare  Potential_Savings_Education  \\\n",
       "0                     67.682471                     0.000000   \n",
       "1                      6.603212                    56.306874   \n",
       "2                      7.290892                   106.653597   \n",
       "3                    193.502754                     0.000000   \n",
       "4                     47.294591                    67.388120   \n",
       "\n",
       "   Potential_Savings_Miscellaneous  \n",
       "0                        85.735517  \n",
       "1                        97.388606  \n",
       "2                       138.542422  \n",
       "3                       296.041183  \n",
       "4                        96.557076  \n",
       "\n",
       "[5 rows x 27 columns]"
      ]
     },
     "execution_count": 2,
     "metadata": {},
     "output_type": "execute_result"
    }
   ],
   "source": [
    "import matplotlib.pyplot as plt\n",
    "import matplotlib as mpl # 한글 폰트 설정 (NanumGothic) \n",
    "mpl.rcParams['font.family'] = 'NanumGothic'\n",
    "mpl.rcParams['axes.unicode_minus'] = False  # 마이너스 기호 깨짐 방지\n",
    "import seaborn as sns\n",
    "import pandas as pd\n",
    "import numpy as np \n",
    "import scipy.stats as stats\n",
    "data_df = pd.read_csv('../../datasets/indian-personal-finance-and-spending-habits.csv')\n",
    "data_df.head()"
   ]
  },
  {
   "cell_type": "markdown",
   "metadata": {},
   "source": [
    "### 검증 할 사항\n",
    "- 도시 등급에 따른 지출 차이가 있는가\n",
    "- 도시 등급에 따른 가처분소득 차이가 있는가\n",
    "- 도시 등급에 따른 소비 습관 차이가 있는가\n",
    "- 도시 등급에 따른 목표 저축액 차이가 있는가\n",
    "- 도시 등급에 따른 절약 액 차이가 있는가\n",
    "- 가처분소득에 따른 목표 저축액에 차이가 있는가\n",
    "- 소비 습관에 따른 목표 저축액 차이가 있는가 "
   ]
  },
  {
   "cell_type": "markdown",
   "metadata": {},
   "source": [
    "### 검증 : 가처분소득에 따른 목표 저축액에 차이가 있는가\n",
    "- 연속형 / 연속형\n",
    "- 가처분소득과 목표 저축액의 상관계수가 abs(0.5) 이상인지 : 0.90 으로 강한 양의 관계가 있다.\n",
    "- 가처분소득과 목표 저축액이 5000개 이상인지, 정규분포인지 : 둘다 정규 분포\n",
    "- 최종 검정 테스트 (p-value 가 0.05 보다 큰지 작은지) : p-value가 0.0 이므로 대립가설 채택"
   ]
  },
  {
   "cell_type": "code",
   "execution_count": 4,
   "metadata": {},
   "outputs": [
    {
     "data": {
      "text/html": [
       "<div>\n",
       "<style scoped>\n",
       "    .dataframe tbody tr th:only-of-type {\n",
       "        vertical-align: middle;\n",
       "    }\n",
       "\n",
       "    .dataframe tbody tr th {\n",
       "        vertical-align: top;\n",
       "    }\n",
       "\n",
       "    .dataframe thead th {\n",
       "        text-align: right;\n",
       "    }\n",
       "</style>\n",
       "<table border=\"1\" class=\"dataframe\">\n",
       "  <thead>\n",
       "    <tr style=\"text-align: right;\">\n",
       "      <th></th>\n",
       "      <th>Disposable_Income</th>\n",
       "      <th>Desired_Savings</th>\n",
       "    </tr>\n",
       "  </thead>\n",
       "  <tbody>\n",
       "    <tr>\n",
       "      <th>Disposable_Income</th>\n",
       "      <td>1.000000</td>\n",
       "      <td>0.905816</td>\n",
       "    </tr>\n",
       "    <tr>\n",
       "      <th>Desired_Savings</th>\n",
       "      <td>0.905816</td>\n",
       "      <td>1.000000</td>\n",
       "    </tr>\n",
       "  </tbody>\n",
       "</table>\n",
       "</div>"
      ],
      "text/plain": [
       "                   Disposable_Income  Desired_Savings\n",
       "Disposable_Income           1.000000         0.905816\n",
       "Desired_Savings             0.905816         1.000000"
      ]
     },
     "execution_count": 4,
     "metadata": {},
     "output_type": "execute_result"
    }
   ],
   "source": [
    "data_df[['Disposable_Income','Desired_Savings']].corr()"
   ]
  },
  {
   "cell_type": "code",
   "execution_count": 5,
   "metadata": {},
   "outputs": [
    {
     "data": {
      "text/plain": [
       "AndersonResult(statistic=1414.632216742928, critical_values=array([0.576, 0.656, 0.787, 0.918, 1.092]), significance_level=array([15. , 10. ,  5. ,  2.5,  1. ]), fit_result=  params: FitParams(loc=10647.367256729376, scale=11740.637288607528)\n",
       " success: True\n",
       " message: '`anderson` successfully fit the distribution to the data.')"
      ]
     },
     "execution_count": 5,
     "metadata": {},
     "output_type": "execute_result"
    }
   ],
   "source": [
    "results = stats.anderson(data_df['Disposable_Income'])\n",
    "results"
   ]
  },
  {
   "cell_type": "code",
   "execution_count": 6,
   "metadata": {},
   "outputs": [
    {
     "data": {
      "text/plain": [
       "(array([15. , 10. ,  5. ,  2.5,  1. ]),\n",
       " array([0.576, 0.656, 0.787, 0.918, 1.092]))"
      ]
     },
     "execution_count": 6,
     "metadata": {},
     "output_type": "execute_result"
    }
   ],
   "source": [
    "results.significance_level, results.critical_values"
   ]
  },
  {
   "cell_type": "code",
   "execution_count": 7,
   "metadata": {},
   "outputs": [
    {
     "data": {
      "text/plain": [
       "AndersonResult(statistic=2520.8838501328355, critical_values=array([0.576, 0.656, 0.787, 0.918, 1.092]), significance_level=array([15. , 10. ,  5. ,  2.5,  1. ]), fit_result=  params: FitParams(loc=4982.878415536119, scale=7733.468188192078)\n",
       " success: True\n",
       " message: '`anderson` successfully fit the distribution to the data.')"
      ]
     },
     "execution_count": 7,
     "metadata": {},
     "output_type": "execute_result"
    }
   ],
   "source": [
    "results = stats.anderson(data_df['Desired_Savings'])\n",
    "results"
   ]
  },
  {
   "cell_type": "code",
   "execution_count": 8,
   "metadata": {},
   "outputs": [
    {
     "data": {
      "text/plain": [
       "(array([15. , 10. ,  5. ,  2.5,  1. ]),\n",
       " array([0.576, 0.656, 0.787, 0.918, 1.092]))"
      ]
     },
     "execution_count": 8,
     "metadata": {},
     "output_type": "execute_result"
    }
   ],
   "source": [
    "results.significance_level, results.critical_values\n"
   ]
  },
  {
   "cell_type": "code",
   "execution_count": 10,
   "metadata": {},
   "outputs": [
    {
     "data": {
      "text/plain": [
       "PearsonRResult(statistic=0.9058164093314598, pvalue=0.0)"
      ]
     },
     "execution_count": 10,
     "metadata": {},
     "output_type": "execute_result"
    }
   ],
   "source": [
    "stats.pearsonr(data_df['Disposable_Income'].dropna(), data_df['Desired_Savings'].dropna())"
   ]
  },
  {
   "cell_type": "markdown",
   "metadata": {},
   "source": [
    "### 검증 : 도시 등급에 따른 지출 차이가 있는가\n",
    "- 범주형 / 연속형\n",
    "- 도시 등급에 따른 지출이 5000개 이상인지, 정규분포인지 : 도시 등급에 대한 지출은 정규분포\n",
    "- 도시 등급의 범주가 3개 이상인지 : 도시 등급인 3개이다.\n",
    "- 도시 등급에 따른 지출이 등분산인지 : pvalue=0.45 > 0.05 등분산이다.\n",
    "- 최종 검정 테스트 (p-value 가 0.05 보다 큰지 작은지) : \n",
    "  - pvalue=3.17e-189 < 0.05 이므로 대립가설 채택 "
   ]
  },
  {
   "cell_type": "code",
   "execution_count": 11,
   "metadata": {},
   "outputs": [
    {
     "data": {
      "text/plain": [
       "City_Tier\n",
       "Tier_2    10068\n",
       "Tier_1     5934\n",
       "Tier_3     3998\n",
       "Name: count, dtype: int64"
      ]
     },
     "execution_count": 11,
     "metadata": {},
     "output_type": "execute_result"
    }
   ],
   "source": [
    "data_df['City_Tier'].value_counts()"
   ]
  },
  {
   "cell_type": "code",
   "execution_count": 12,
   "metadata": {},
   "outputs": [
    {
     "data": {
      "text/plain": [
       "20000"
      ]
     },
     "execution_count": 12,
     "metadata": {},
     "output_type": "execute_result"
    }
   ],
   "source": [
    "condition_triple = 'City_Tier in (\"Tier_1\", \"Tier_2\", \"Tier_3\")'\n",
    "triple_df = data_df.query(condition_triple).dropna()\n",
    "len(triple_df)"
   ]
  },
  {
   "cell_type": "code",
   "execution_count": 13,
   "metadata": {},
   "outputs": [
    {
     "data": {
      "text/plain": [
       "AndersonResult(statistic=1290.5637343818598, critical_values=array([0.576, 0.656, 0.787, 0.918, 1.092]), significance_level=array([15. , 10. ,  5. ,  2.5,  1. ]), fit_result=  params: FitParams(loc=41585.49610420809, scale=40014.5405375311)\n",
       " success: True\n",
       " message: '`anderson` successfully fit the distribution to the data.')"
      ]
     },
     "execution_count": 13,
     "metadata": {},
     "output_type": "execute_result"
    }
   ],
   "source": [
    "results = stats.anderson(triple_df['Income'].dropna())\n",
    "results"
   ]
  },
  {
   "cell_type": "code",
   "execution_count": 14,
   "metadata": {},
   "outputs": [
    {
     "data": {
      "text/plain": [
       "(array([15. , 10. ,  5. ,  2.5,  1. ]),\n",
       " array([0.576, 0.656, 0.787, 0.918, 1.092]))"
      ]
     },
     "execution_count": 14,
     "metadata": {},
     "output_type": "execute_result"
    }
   ],
   "source": [
    "results.significance_level, results.critical_values\n"
   ]
  },
  {
   "cell_type": "code",
   "execution_count": 15,
   "metadata": {},
   "outputs": [
    {
     "data": {
      "text/plain": [
       "(5934, 10068, 3998)"
      ]
     },
     "execution_count": 15,
     "metadata": {},
     "output_type": "execute_result"
    }
   ],
   "source": [
    "condition_tier1 = 'City_Tier == \"Tier_1\"'\n",
    "condition_tier2 = 'City_Tier == \"Tier_2\"'\n",
    "condition_tier3 = 'City_Tier == \"Tier_3\"'\n",
    "df_tier1 = data_df.query(condition_tier1).dropna()\n",
    "df_tier2 = data_df.query(condition_tier2).dropna()\n",
    "df_tier3 = data_df.query(condition_tier3).dropna()\n",
    "\n",
    "len(df_tier1), len(df_tier2), len(df_tier3)"
   ]
  },
  {
   "cell_type": "code",
   "execution_count": 18,
   "metadata": {},
   "outputs": [
    {
     "data": {
      "text/plain": [
       "LeveneResult(statistic=0.7981966693362551, pvalue=0.4501543250934851)"
      ]
     },
     "execution_count": 18,
     "metadata": {},
     "output_type": "execute_result"
    }
   ],
   "source": [
    "test_list = [df_tier1['Income'], df_tier2['Income'], df_tier3['Income']]\n",
    "stats.levene(*test_list)"
   ]
  },
  {
   "cell_type": "code",
   "execution_count": 24,
   "metadata": {},
   "outputs": [
    {
     "data": {
      "text/plain": [
       "F_onewayResult(statistic=443.5906781333559, pvalue=3.1782327099561377e-189)"
      ]
     },
     "execution_count": 24,
     "metadata": {},
     "output_type": "execute_result"
    }
   ],
   "source": [
    "stats.f_oneway(*test_list)"
   ]
  },
  {
   "cell_type": "markdown",
   "metadata": {},
   "source": [
    "### 검증 : 도시 등급에 따른 가처분소득 차이가 있는가\n",
    "- 범주형 / 연속형\n",
    "- 도시 등급에 따른 가처분소득이 5000개 이상인지, 정규분포인지 : 도시 등급에 대한 가처분소득은 정규분포\n",
    "- 도시 등급의 범주가 3개 이상인지 : 도시 등급인 3개이다.\n",
    "- 도시 등급에 따른 가처분소득이 등분산인지 : pvalue=6.33e-72 < 0.05 이분산이다.\n",
    "- 최종 검정 테스트 (p-value 가 0.05 보다 큰지 작은지) : \n",
    "  - pvalue=0.0 < 0.05 이므로 대립가설 채택 "
   ]
  },
  {
   "cell_type": "code",
   "execution_count": 20,
   "metadata": {},
   "outputs": [
    {
     "data": {
      "text/plain": [
       "AndersonResult(statistic=1414.632216742928, critical_values=array([0.576, 0.656, 0.787, 0.918, 1.092]), significance_level=array([15. , 10. ,  5. ,  2.5,  1. ]), fit_result=  params: FitParams(loc=10647.367256729376, scale=11740.637288607528)\n",
       " success: True\n",
       " message: '`anderson` successfully fit the distribution to the data.')"
      ]
     },
     "execution_count": 20,
     "metadata": {},
     "output_type": "execute_result"
    }
   ],
   "source": [
    "results = stats.anderson(triple_df['Disposable_Income'].dropna())\n",
    "results"
   ]
  },
  {
   "cell_type": "code",
   "execution_count": 21,
   "metadata": {},
   "outputs": [
    {
     "data": {
      "text/plain": [
       "(array([15. , 10. ,  5. ,  2.5,  1. ]),\n",
       " array([0.576, 0.656, 0.787, 0.918, 1.092]))"
      ]
     },
     "execution_count": 21,
     "metadata": {},
     "output_type": "execute_result"
    }
   ],
   "source": [
    "results.significance_level, results.critical_values\n"
   ]
  },
  {
   "cell_type": "code",
   "execution_count": 22,
   "metadata": {},
   "outputs": [
    {
     "data": {
      "text/plain": [
       "LeveneResult(statistic=165.29156885840797, pvalue=6.334142144017232e-72)"
      ]
     },
     "execution_count": 22,
     "metadata": {},
     "output_type": "execute_result"
    }
   ],
   "source": [
    "test_list = [df_tier1['Disposable_Income'], df_tier2['Disposable_Income'], df_tier3['Disposable_Income']]\n",
    "stats.levene(*test_list)"
   ]
  },
  {
   "cell_type": "code",
   "execution_count": 23,
   "metadata": {},
   "outputs": [
    {
     "data": {
      "text/plain": [
       "KruskalResult(statistic=1592.172752685743, pvalue=0.0)"
      ]
     },
     "execution_count": 23,
     "metadata": {},
     "output_type": "execute_result"
    }
   ],
   "source": [
    "stats.kruskal(*test_list)\n"
   ]
  }
 ],
 "metadata": {
  "kernelspec": {
   "display_name": "Python 3",
   "language": "python",
   "name": "python3"
  },
  "language_info": {
   "codemirror_mode": {
    "name": "ipython",
    "version": 3
   },
   "file_extension": ".py",
   "mimetype": "text/x-python",
   "name": "python",
   "nbconvert_exporter": "python",
   "pygments_lexer": "ipython3",
   "version": "3.11.11"
  }
 },
 "nbformat": 4,
 "nbformat_minor": 2
}
